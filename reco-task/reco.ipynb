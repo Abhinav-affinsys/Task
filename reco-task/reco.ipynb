{
 "cells": [
  {
   "cell_type": "code",
   "execution_count": 20,
   "metadata": {},
   "outputs": [],
   "source": [
    "%reset\n",
    "from sklearn.cluster import k_means\n",
    "from sklearn.preprocessing import OneHotEncoder\n",
    "from sklearn.model_selection import train_test_split\n",
    "from sklearn.metrics import accuracy_score\n",
    "from kmodes.kprototypes import KPrototypes\n",
    "from sklearn.multioutput import MultiOutputRegressor\n",
    "import lightgbm as lgb\n",
    "import xgboost as xgb\n",
    "import pandas as pd\n",
    "import numpy as np\n",
    "from plotnine import *\n",
    "import plotnine\n",
    "from matplotlib import pyplot as plt\n",
    "import pickle"
   ]
  },
  {
   "cell_type": "code",
   "execution_count": 21,
   "metadata": {},
   "outputs": [],
   "source": [
    "df = pd.read_csv(\"stanbic.csv\")\n",
    "# enc = OneHotEncoder(sparse=False)\n",
    "# df['profession_subclass'] = df['profession_subclass'].str.replace(' ',\"_\")\n",
    "# print(df['profession_subclass'])\n",
    "df = df.iloc[:,:-3]\n",
    "df.credit_cards = df.credit_cards.apply(lambda x:x.strip(\"[]\"))\n",
    "# print(df.credit_cards.shape)\n",
    "df_test = df.credit_cards.str.get_dummies(sep = ',')\n",
    "# print(df.dtypes)\n",
    "df = df.drop(['credit_cards'],axis=1)\n",
    "df = df.join(df_test)\n",
    "# df['profession_subclass'] = enc.fit_transform(np.array(df['profession_subclass']).reshape(-1,1))\n",
    "df = df.drop('cust_id',axis=1)\n",
    "# df['credit_cards'] = enc.fit_transform(np.array(df['credit_cards']).reshape(-1,1))"
   ]
  },
  {
   "cell_type": "markdown",
   "metadata": {},
   "source": [
    "<h1>Regressor using Light GBM</h1>"
   ]
  },
  {
   "cell_type": "code",
   "execution_count": 22,
   "metadata": {},
   "outputs": [],
   "source": [
    "obj_feat = list(df.loc[:, df.dtypes == 'object'].columns.values)\n",
    "for feature in obj_feat:\n",
    "    df[feature] = pd.Series(df[feature], dtype=\"category\")"
   ]
  },
  {
   "cell_type": "code",
   "execution_count": 23,
   "metadata": {},
   "outputs": [
    {
     "data": {
      "text/plain": [
       "dtype('int64')"
      ]
     },
     "execution_count": 23,
     "metadata": {},
     "output_type": "execute_result"
    }
   ],
   "source": [
    "df.amt_spent_cat3.dtypes"
   ]
  },
  {
   "cell_type": "code",
   "execution_count": 24,
   "metadata": {},
   "outputs": [
    {
     "name": "stdout",
     "output_type": "stream",
     "text": [
      "0.9885167464114832\n"
     ]
    },
    {
     "data": {
      "text/html": [
       "<div>\n",
       "<style scoped>\n",
       "    .dataframe tbody tr th:only-of-type {\n",
       "        vertical-align: middle;\n",
       "    }\n",
       "\n",
       "    .dataframe tbody tr th {\n",
       "        vertical-align: top;\n",
       "    }\n",
       "\n",
       "    .dataframe thead th {\n",
       "        text-align: right;\n",
       "    }\n",
       "</style>\n",
       "<table border=\"1\" class=\"dataframe\">\n",
       "  <thead>\n",
       "    <tr style=\"text-align: right;\">\n",
       "      <th></th>\n",
       "      <th>cols</th>\n",
       "      <th>fea_imp</th>\n",
       "    </tr>\n",
       "  </thead>\n",
       "  <tbody>\n",
       "    <tr>\n",
       "      <th>36</th>\n",
       "      <td>amt_spent_cat3</td>\n",
       "      <td>264</td>\n",
       "    </tr>\n",
       "    <tr>\n",
       "      <th>34</th>\n",
       "      <td>amt_spent_cat1</td>\n",
       "      <td>260</td>\n",
       "    </tr>\n",
       "    <tr>\n",
       "      <th>41</th>\n",
       "      <td>max_amt_in_curr_acc</td>\n",
       "      <td>244</td>\n",
       "    </tr>\n",
       "    <tr>\n",
       "      <th>39</th>\n",
       "      <td>max_amt_in_sav_acc</td>\n",
       "      <td>236</td>\n",
       "    </tr>\n",
       "    <tr>\n",
       "      <th>35</th>\n",
       "      <td>amt_spent_cat2</td>\n",
       "      <td>219</td>\n",
       "    </tr>\n",
       "    <tr>\n",
       "      <th>38</th>\n",
       "      <td>amt_in_sav_acc</td>\n",
       "      <td>213</td>\n",
       "    </tr>\n",
       "    <tr>\n",
       "      <th>20</th>\n",
       "      <td>income</td>\n",
       "      <td>198</td>\n",
       "    </tr>\n",
       "    <tr>\n",
       "      <th>40</th>\n",
       "      <td>amt_in_curr_acc</td>\n",
       "      <td>155</td>\n",
       "    </tr>\n",
       "    <tr>\n",
       "      <th>21</th>\n",
       "      <td>credit_score</td>\n",
       "      <td>147</td>\n",
       "    </tr>\n",
       "    <tr>\n",
       "      <th>37</th>\n",
       "      <td>total_no_of_txn</td>\n",
       "      <td>108</td>\n",
       "    </tr>\n",
       "  </tbody>\n",
       "</table>\n",
       "</div>"
      ],
      "text/plain": [
       "                   cols  fea_imp\n",
       "36       amt_spent_cat3      264\n",
       "34       amt_spent_cat1      260\n",
       "41  max_amt_in_curr_acc      244\n",
       "39   max_amt_in_sav_acc      236\n",
       "35       amt_spent_cat2      219\n",
       "38       amt_in_sav_acc      213\n",
       "20               income      198\n",
       "40      amt_in_curr_acc      155\n",
       "21         credit_score      147\n",
       "37      total_no_of_txn      108"
      ]
     },
     "execution_count": 24,
     "metadata": {},
     "output_type": "execute_result"
    }
   ],
   "source": [
    "x_train,x_test,y_train,y_test = train_test_split(df.iloc[:,:44],df.iloc[:,80],test_size=0.20,random_state=33)\n",
    "model = lgb.LGBMRegressor()\n",
    "model.fit(x_train, y_train)\n",
    "y_pred = model.predict(x_test)\n",
    "y_pr = y_pred\n",
    "y_pr[y_pr>=0.5]=1\n",
    "y_pr[y_pr<0.5]=0\n",
    "print(accuracy_score(y_test,y_pr))\n",
    "fea_imp_ = pd.DataFrame({'cols':x_test.columns, 'fea_imp':model.feature_importances_})\n",
    "fea_imp_.loc[fea_imp_.fea_imp > 100].sort_values(by=['fea_imp'], ascending = False)"
   ]
  },
  {
   "cell_type": "code",
   "execution_count": 25,
   "metadata": {},
   "outputs": [
    {
     "data": {
      "text/plain": [
       "'amt_spent_cat1'"
      ]
     },
     "execution_count": 25,
     "metadata": {},
     "output_type": "execute_result"
    }
   ],
   "source": [
    "list = fea_imp_.loc[fea_imp_.fea_imp > 100].sort_values(by=['fea_imp'], ascending = False).cols\n",
    "list = np.array(list)\n",
    "list[1]"
   ]
  },
  {
   "cell_type": "code",
   "execution_count": 26,
   "metadata": {},
   "outputs": [
    {
     "data": {
      "text/plain": [
       "array([['Female', '30-39', 34, 'Ugandan', 'Silver', 10, 'Mbarara',\n",
       "        'Mbarara', 0, 0, 'Single', 1, 'Lawyer',\n",
       "        'Internship Legal Officer', 0, 0, 0, 0, 1, 0, 2850549, 629, 1, 2,\n",
       "        12, 3, 2, 2, 'Bills', 'Dining', 'Golf', 18, 9, 9, 90775, 62595,\n",
       "        58496, 22, 188105, 317929, 884122, 901152, 7, 20, 1]],\n",
       "      dtype=object)"
      ]
     },
     "execution_count": 26,
     "metadata": {},
     "output_type": "execute_result"
    }
   ],
   "source": [
    "np.array(df.iloc[1,:45]).reshape(1,-1)"
   ]
  },
  {
   "cell_type": "code",
   "execution_count": 27,
   "metadata": {},
   "outputs": [
    {
     "name": "stdout",
     "output_type": "stream",
     "text": [
      "0.9263157894736842\n",
      "0.7684210526315789\n",
      "0.8832535885167464\n",
      "0.9626794258373206\n",
      "0.9454545454545454\n",
      "0.9837320574162679\n",
      "0.9483253588516747\n",
      "0.9722488038277513\n",
      "0.9846889952153111\n",
      "0.9607655502392345\n",
      "0.7004784688995215\n",
      "0.876555023923445\n",
      "0.9052631578947369\n",
      "0.724401913875598\n",
      "0.999043062200957\n",
      "0.7674641148325358\n",
      "0.9177033492822967\n",
      "0.9531100478468899\n",
      "0.9148325358851674\n",
      "0.9301435406698565\n",
      "0.9636363636363636\n",
      "0.9186602870813397\n",
      "0.999043062200957\n",
      "0.9980861244019139\n",
      "0.9540669856459331\n",
      "0.6555023923444976\n",
      "0.9980861244019139\n",
      "0.9894736842105263\n",
      "0.9904306220095693\n",
      "1.0\n",
      "0.9760765550239234\n",
      "0.9980861244019139\n",
      "0.999043062200957\n",
      "0.9913875598086125\n",
      "0.9885167464114832\n",
      "0.9330143540669856\n",
      "0.6784688995215311\n",
      "0.9531100478468899\n",
      "0.9425837320574163\n",
      "0.9521531100478469\n",
      "0.9923444976076555\n",
      "0.9205741626794258\n",
      "1.0\n",
      "0.9942583732057416\n"
     ]
    }
   ],
   "source": [
    "acc_score = []\n",
    "name = []\n",
    "\n",
    "for i in range(46,90):\n",
    "    x1_train,x1_test,y1_train,y1_test = train_test_split(df.iloc[:,:45],df.iloc[:,i],test_size=0.20,random_state=33)\n",
    "    model = lgb.LGBMRegressor()\n",
    "    md_name = df.iloc[:,i].name\n",
    "    name.append(md_name)\n",
    "    filename = f'/home/abhinav-dev/reco-task/Models_cards/Model_{md_name}.sav'\n",
    "    model.fit(x1_train, y1_train)\n",
    "    pickle.dump(model, open(filename, 'wb'))\n",
    "    y_pred = model.predict(x1_test)\n",
    "    y_pr = y_pred\n",
    "    y_pr[y_pr>=0.5]=1\n",
    "    y_pr[y_pr<0.5]=0\n",
    "    acc_score.append(accuracy_score(y1_test,y_pr)*100)\n",
    "    print(accuracy_score(y1_test,y_pr))\n",
    "\n",
    "d = {'name':name,'accuracy':acc_score}\n",
    "df_acc = pd.DataFrame(data=d)\n",
    "df_acc.to_excel(\"Model_Performance.xlsx\")"
   ]
  },
  {
   "cell_type": "code",
   "execution_count": 28,
   "metadata": {},
   "outputs": [
    {
     "data": {
      "text/plain": [
       "92.75337103088302"
      ]
     },
     "execution_count": 28,
     "metadata": {},
     "output_type": "execute_result"
    }
   ],
   "source": [
    "sum(acc_score)/len(acc_score)"
   ]
  },
  {
   "cell_type": "code",
   "execution_count": 29,
   "metadata": {},
   "outputs": [
    {
     "data": {
      "text/plain": [
       "pandas.core.frame.DataFrame"
      ]
     },
     "execution_count": 29,
     "metadata": {},
     "output_type": "execute_result"
    }
   ],
   "source": [
    "op = df.iloc[:1,:45]\n",
    "type(op)"
   ]
  },
  {
   "cell_type": "code",
   "execution_count": 30,
   "metadata": {},
   "outputs": [],
   "source": [
    "reco = []\n",
    "for i in range(46,90):\n",
    "    md_name = df.iloc[:,i].name\n",
    "    filename = f'/home/abhinav-dev/reco-task/Models_cards/Model_{md_name}.sav'\n",
    "    loaded_model = pickle.load(open(filename, 'rb'))\n",
    "    y_pred = loaded_model.predict(df.iloc[[2],:45])\n",
    "    if(y_pred >= 0.5):\n",
    "        reco.append(md_name)"
   ]
  },
  {
   "cell_type": "code",
   "execution_count": 31,
   "metadata": {},
   "outputs": [
    {
     "data": {
      "text/plain": [
       "[\" 'Corporate Premium Credit Card'\",\n",
       " \" 'Diners Club Premium Credit Card'\",\n",
       " \" 'Visa Signature Credit Card'\",\n",
       " \"'Infinite Credit Card'\"]"
      ]
     },
     "execution_count": 31,
     "metadata": {},
     "output_type": "execute_result"
    }
   ],
   "source": [
    "reco"
   ]
  },
  {
   "cell_type": "markdown",
   "metadata": {},
   "source": [
    "<h1>Kprototypes for clustering(not effective)</h1>"
   ]
  },
  {
   "cell_type": "code",
   "execution_count": 32,
   "metadata": {},
   "outputs": [
    {
     "name": "stdout",
     "output_type": "stream",
     "text": [
      "skipping\n"
     ]
    }
   ],
   "source": [
    "%%script echo skipping\n",
    "catColumnsPos = [df.columns.get_loc(col) for col in list(df.select_dtypes('object').columns)]"
   ]
  },
  {
   "cell_type": "code",
   "execution_count": 33,
   "metadata": {},
   "outputs": [
    {
     "name": "stdout",
     "output_type": "stream",
     "text": [
      "skipping\n"
     ]
    }
   ],
   "source": [
    "%%script echo skipping\n",
    "cost = []\n",
    "dfMatrix = df.to_numpy()\n",
    "for cluster in range(1, 10):\n",
    "    kprototype = KPrototypes(n_jobs = -1, n_clusters = cluster, init = 'Huang', random_state = 0)\n",
    "    kprototype.fit_predict(dfMatrix, categorical = catColumnsPos)\n",
    "    cost.append(kprototype.cost_)\n",
    "    print('Cluster initiation: {}'.format(cluster))"
   ]
  },
  {
   "cell_type": "code",
   "execution_count": 34,
   "metadata": {},
   "outputs": [
    {
     "name": "stdout",
     "output_type": "stream",
     "text": [
      "skipping\n"
     ]
    }
   ],
   "source": [
    "%%script echo skipping\n",
    "plt.plot(cost)\n",
    "plt.show()"
   ]
  },
  {
   "cell_type": "code",
   "execution_count": 35,
   "metadata": {},
   "outputs": [
    {
     "name": "stdout",
     "output_type": "stream",
     "text": [
      "skipping\n"
     ]
    }
   ],
   "source": [
    "%%script echo skipping\n",
    "kprototype = KPrototypes(n_jobs = -1, n_clusters = 2, init = 'Huang', random_state = 0)\n",
    "kprototype.fit_predict(dfMatrix, categorical = catColumnsPos)"
   ]
  },
  {
   "cell_type": "code",
   "execution_count": 36,
   "metadata": {},
   "outputs": [
    {
     "name": "stdout",
     "output_type": "stream",
     "text": [
      "skipping\n"
     ]
    }
   ],
   "source": [
    "%%script echo skipping\n",
    "kprototype.predict(df.iloc[:1000],categorical = catColumnsPos)"
   ]
  }
 ],
 "metadata": {
  "kernelspec": {
   "display_name": "Python 3.10.6 64-bit",
   "language": "python",
   "name": "python3"
  },
  "language_info": {
   "codemirror_mode": {
    "name": "ipython",
    "version": 3
   },
   "file_extension": ".py",
   "mimetype": "text/x-python",
   "name": "python",
   "nbconvert_exporter": "python",
   "pygments_lexer": "ipython3",
   "version": "3.10.6"
  },
  "orig_nbformat": 4,
  "vscode": {
   "interpreter": {
    "hash": "916dbcbb3f70747c44a77c7bcd40155683ae19c65e1c03b4aa3499c5328201f1"
   }
  }
 },
 "nbformat": 4,
 "nbformat_minor": 2
}
